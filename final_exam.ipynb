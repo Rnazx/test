{
 "cells": [
  {
   "cell_type": "markdown",
   "metadata": {},
   "source": [
    "# End-Semester Exam"
   ]
  },
  {
   "cell_type": "code",
   "execution_count": 1,
   "metadata": {},
   "outputs": [],
   "source": [
    "import numpy as np\n",
    "import matplotlib.pyplot as plt\n",
    "import lib_for_endsem as lib"
   ]
  },
  {
   "cell_type": "markdown",
   "metadata": {},
   "source": [
    "## Question 2"
   ]
  },
  {
   "cell_type": "markdown",
   "metadata": {},
   "source": [
    "### Helper Functions"
   ]
  },
  {
   "cell_type": "code",
   "execution_count": 4,
   "metadata": {},
   "outputs": [],
   "source": [
    "def legendre_poly(x, order):\n",
    "    if order == 0: return 1\n",
    "    elif order == 1: return x\n",
    "    elif order == 2: return (3*(x**2) - 1) / 2\n",
    "    elif order == 3: return (5*(x**3) - 3*x) / 2\n",
    "    elif order == 4: return (35*(x**4) - 30*(x**2) + 3) / 8\n",
    "    elif order == 5: return (63*(x**5) - 70*(x**3) + 15*x) / 8\n",
    "    elif order == 6: return (231*(x**6) - 315*(x**4) + 105*(x**2) - 5) / 16\n",
    "\n",
    "\n",
    "\n",
    "\n",
    "\n",
    "def legendre_fit(X, Y, d = 3):\n",
    "    n = len(X)\n",
    "    p = d + 1\n",
    "    A = np.zeros((p, p))\n",
    "    b = np.zeros(p)\n",
    "\n",
    "    for i in range(p):\n",
    "        for j in range(p):\n",
    "            sum = 0\n",
    "            for k in range(n):\n",
    "                sum += legendre_poly(X[k], j) * legendre_poly(X[k], i)\n",
    "            A[i, j] = sum\n",
    "\n",
    "    for i in range(p):\n",
    "        sum = 0\n",
    "        for k in range(n):\n",
    "            sum += legendre_poly(X[k], i) * Y[k]\n",
    "        b[i] = sum\n",
    "\n",
    "    x = lib.solvex_lu(A, b)\n",
    "    return x"
   ]
  },
  {
   "cell_type": "markdown",
   "metadata": {},
   "source": [
    "### Main Code"
   ]
  },
  {
   "cell_type": "code",
   "execution_count": 18,
   "metadata": {},
   "outputs": [
    {
     "name": "stdout",
     "output_type": "stream",
     "text": [
      "The coefficients obtained in the legendre functions basis is : [ 0.07003197  0.00430169 -0.01016671  0.01308374  0.11411855 -0.00672697\n",
      " -0.01238456]\n"
     ]
    },
    {
     "data": {
      "image/png": "[encoded data removed]",
      "text/plain": [
       "<Figure size 432x288 with 1 Axes>"
      ]
     },
     "metadata": {
      "needs_background": "light"
     },
     "output_type": "display_data"
    }
   ],
   "source": [
    "f = open('esem4fit.txt', 'r')\n",
    "data = np.genfromtxt(f, delimiter='')\n",
    "f.close()\n",
    "\n",
    "X = data.T[0]\n",
    "Y = data.T[1]\n",
    "\n",
    "order = 6\n",
    "\n",
    "coeff = legendre_fit(X, Y, order)\n",
    "\n",
    "c_0, c_1, c_2, c_3 = coeff[0], coeff[1], coeff[2], coeff[3]\n",
    "\n",
    "print(\"The coefficients obtained in the legendre functions basis is : {}\".format(coeff))\n",
    "\n",
    "x = np.linspace(-1, 1, 100)\n",
    "y = 0\n",
    "for i in range(order):\n",
    "    y += coeff[i] * legendre_poly(x , i)\n",
    "\n",
    "plt.scatter(X, Y, c = 'g', label=\"Datapoints\")\n",
    "plt.plot(x, y, \"y\", label=\"legendre-fit\")\n",
    "\n",
    "plt.legend()\n",
    "plt.show()"
   ]
  },
  {
   "cell_type": "markdown",
   "metadata": {},
   "source": [
    "## Question 4"
   ]
  },
  {
   "cell_type": "markdown",
   "metadata": {},
   "source": [
    "### Helper functions"
   ]
  },
  {
   "cell_type": "code",
   "execution_count": null,
   "metadata": {},
   "outputs": [],
   "source": []
  },
  {
   "cell_type": "markdown",
   "metadata": {},
   "source": [
    "### Main Code"
   ]
  },
  {
   "cell_type": "code",
   "execution_count": 20,
   "metadata": {},
   "outputs": [
    {
     "name": "stdout",
     "output_type": "stream",
     "text": [
      "Order    :  4\n",
      "Roots    :  [-0.86113631 -0.33998104  0.33998104  0.86113631]\n",
      "Weights  :  [0.34785485 0.65214515 0.65214515 0.34785485]\n",
      "Integral :  1.762054180371305\n",
      "Order    :  5\n",
      "Roots    :  [-0.90617985 -0.53846931  0.          0.53846931  0.90617985]\n",
      "Weights  :  [0.23692689 0.47862867 0.56888889 0.47862867 0.23692689]\n",
      "Integral :  1.7628552960514048\n",
      "Order    :  6\n",
      "Roots    :  [-0.93246951 -0.66120939 -0.23861919  0.23861919  0.66120939  0.93246951]\n",
      "Weights  :  [0.17132449 0.36076157 0.46791393 0.46791393 0.36076157 0.17132449]\n",
      "Integral :  1.762730050077202\n"
     ]
    }
   ],
   "source": [
    "# The integrand - change as required\n",
    "def func(x):\n",
    "\treturn 1/np.sqrt(x**2 + 1)\n",
    "\n",
    "for i in range(4,7):\n",
    "    order = i\n",
    "    [Ws,xs,err]=lib.GaussLegendreWeights(order)\n",
    "    if err==0:\n",
    "        print(\"Order    : \", order)\n",
    "        print(\"Roots    : \", xs)\n",
    "        print(\"Weights  : \", Ws)\n",
    "    else:\n",
    "        print(\"Roots/Weights evaluation failed\")\n",
    " \n",
    "    # Integrating the function\n",
    "    [ans,err]=lib.GaussLegendreQuadrature(func , order, -1,1)\n",
    "    if err==0:\n",
    "        print( \"Integral : \", ans)\n",
    "    else:\n",
    "        print(\"Integral evaluation failed\")\n"
   ]
  },
  {
   "cell_type": "code",
   "execution_count": null,
   "metadata": {},
   "outputs": [],
   "source": []
  }
 ],
 "metadata": {
  "interpreter": {
   "hash": "c0437015ee5add1dd0dd58b6a9690316d45ab47fd2882b8b35a6836ebd4bb386"
  },
  "kernelspec": {
   "display_name": "Python 3.7.3 32-bit",
   "language": "python",
   "name": "python3"
  },
  "language_info": {
   "codemirror_mode": {
    "name": "ipython",
    "version": 3
   },
   "file_extension": ".py",
   "mimetype": "text/x-python",
   "name": "python",
   "nbconvert_exporter": "python",
   "pygments_lexer": "ipython3",
   "version": "3.7.3"
  },
  "orig_nbformat": 4
 },
 "nbformat": 4,
 "nbformat_minor": 2
}
